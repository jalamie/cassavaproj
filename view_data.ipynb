{
 "cells": [
  {
   "cell_type": "code",
   "execution_count": null,
   "metadata": {},
   "outputs": [],
   "source": [
    "import os\n",
    "import json\n",
    "\n",
    "import numpy as np\n",
    "import pandas as pd\n",
    "import seaborn as sn\n",
    "import matplotlib.pyplot as plt\n",
    "import cv2\n",
    "import albumentations as A\n",
    "\n",
    "\n",
    "import matplotlib.pyplot as plt\n",
    "import seaborn as sns\n",
    "plt.style.use('fivethirtyeight')\n",
    "sns.set_style('whitegrid')\n",
    "BASE_DIR = \"./cassava-leaf-disease-classification/\""
   ]
  },
  {
   "cell_type": "code",
   "execution_count": null,
   "metadata": {},
   "outputs": [],
   "source": [
    "with open(os.path.join(BASE_DIR, \"label_num_to_disease_map.json\")) as file:\n",
    "    map_classes = json.loads(file.read())\n",
    "    map_classes = {int(k) : v for k, v in map_classes.items()}\n",
    "    \n",
    "print(json.dumps(map_classes, indent=4))"
   ]
  },
  {
   "cell_type": "code",
   "execution_count": null,
   "metadata": {},
   "outputs": [],
   "source": [
    "input_files = os.listdir(os.path.join(BASE_DIR, \"train_images\"))\n",
    "print(f\"Number of images: {len(input_files)}\")"
   ]
  },
  {
   "cell_type": "code",
   "execution_count": null,
   "metadata": {},
   "outputs": [],
   "source": [
    "import cv2\n",
    "img_shapes = {}\n",
    "for image_name in os.listdir(os.path.join(BASE_DIR, \"train_images\"))[:10]:\n",
    "    image = cv2.imread(os.path.join(BASE_DIR, \"train_images\", image_name))\n",
    "    img_shapes[image.shape] = img_shapes.get(image.shape, 0) + 1\n",
    "\n",
    "print(img_shapes)"
   ]
  },
  {
   "cell_type": "code",
   "execution_count": null,
   "metadata": {},
   "outputs": [],
   "source": [
    "import pandas as pd\n",
    "df_train = pd.read_csv(os.path.join(BASE_DIR, \"train.csv\"))\n",
    "\n",
    "df_train[\"class_name\"] = df_train[\"label\"].map(map_classes)\n",
    "\n",
    "df_train"
   ]
  },
  {
   "attachments": {},
   "cell_type": "markdown",
   "metadata": {},
   "source": [
    "distribution of classes image"
   ]
  },
  {
   "cell_type": "code",
   "execution_count": null,
   "metadata": {},
   "outputs": [],
   "source": [
    "import matplotlib.pyplot as plt\n",
    "import seaborn as sn\n",
    "\n",
    "plt.figure(figsize=(8, 4))\n",
    "sn.countplot(y=\"class_name\", data=df_train)"
   ]
  },
  {
   "attachments": {},
   "cell_type": "markdown",
   "metadata": {},
   "source": [
    "display how the different classes look like\n"
   ]
  },
  {
   "cell_type": "code",
   "execution_count": null,
   "metadata": {},
   "outputs": [],
   "source": [
    "from matplotlib.ticker import MaxNLocator\n",
    "import random\n",
    "\n",
    "def display_samples(df, num_samples=9, display_first=5):\n",
    "    plt.figure(figsize=(30, 30))\n",
    "    \n",
    "    # Iterate through unique class labels\n",
    "    for label in df['label'].unique():\n",
    "        # Get the first 30 samples for the current class\n",
    "        class_samples = df[df['label'] == label].head(30)\n",
    "        \n",
    "        # Randomly select 5 samples from the first 30\n",
    "        selected_samples = class_samples.sample(min(display_first, len(class_samples)), random_state=42)\n",
    "        \n",
    "        # Iterate through selected samples of the current class\n",
    "        for i, row in enumerate(selected_samples.itertuples(), 1):\n",
    "            img_path = os.path.join(BASE_DIR, \"train_images\", row.image_id)\n",
    "            img = plt.imread(img_path)\n",
    "\n",
    "            # Calculate subplot index\n",
    "            subplot_index = (label * num_samples) + i\n",
    "            \n",
    "            # Create subplot\n",
    "            plt.subplot(len(df['label'].unique()), num_samples, subplot_index)\n",
    "            plt.imshow(img)\n",
    "            \n",
    "            # Display class label as the title\n",
    "            if i == 1:  # Display the title only once for each class\n",
    "                plt.title(f'Class {row.label}')\n",
    "                \n",
    "            # Turn off the axis for each subplot\n",
    "            plt.axis('off')\n",
    "\n",
    "    plt.subplots_adjust(wspace=0.1, hspace=0.1)  # Adjust the spacing between subplots\n",
    "    plt.show()\n",
    "\n",
    "# Call the function with your DataFrame\n",
    "display_samples(df_train, num_samples=5, display_first=5)\n"
   ]
  },
  {
   "attachments": {},
   "cell_type": "markdown",
   "metadata": {},
   "source": [
    "Display how the images will look before and after resizing, greyscale and sharpened"
   ]
  },
  {
   "cell_type": "code",
   "execution_count": null,
   "metadata": {},
   "outputs": [],
   "source": [
    "from matplotlib.ticker import MaxNLocator\n",
    "import random\n",
    "\n",
    "def display_samples(df, num_samples=9, display_first=30):\n",
    "    plt.figure(figsize=(30, 30))\n",
    "    \n",
    "    # Iterate through unique class labels\n",
    "    for label in df['label'].unique():\n",
    "        # Get the first 30 samples for the current class\n",
    "        class_samples = df[df['label'] == label].head(30)\n",
    "        \n",
    "        # Randomly select 5 samples from the first 30\n",
    "        selected_samples = class_samples.sample(min(display_first, len(class_samples)), random_state=42)\n",
    "    \n",
    "    # Return the selected samples for further use\n",
    "    return selected_samples\n",
    "\n",
    "# Call the function with your DataFrame\n",
    "selected_samples = display_samples(df_train, num_samples=5, display_first=30)\n",
    "\n",
    "# Function to sharpen the image\n",
    "def sharpen_image(image):\n",
    "    image_blurred = cv2.GaussianBlur(image, (0, 0), 3)\n",
    "    image_sharp = cv2.addWeighted(image, 1.5, image_blurred, -0.5, 0)\n",
    "    return image_sharp\n",
    "\n",
    "# Function to convert the image to grayscale\n",
    "def gray_image(image):\n",
    "    output = cv2.cvtColor(image, cv2.COLOR_BGR2GRAY)\n",
    "    return output / 255\n",
    "\n",
    "# Pick 3 random images\n",
    "random_samples = selected_samples.sample(3, random_state=42)\n",
    "\n",
    "# Display the original, resized, grayscale, and sharpened images\n",
    "for _, row in random_samples.iterrows():\n",
    "    img_path = os.path.join(BASE_DIR, \"train_images\", row.image_id)\n",
    "    img = plt.imread(img_path)\n",
    "\n",
    "    # Resize the image\n",
    "    resized_img = cv2.resize(img, (150, 150))\n",
    "\n",
    "    # Convert to grayscale\n",
    "    gray_img = gray_image(resized_img)\n",
    "\n",
    "    # Sharpen the image\n",
    "    sharpened_img = sharpen_image(resized_img)\n",
    "\n",
    "    # Plot the images\n",
    "    plt.figure(figsize=(12, 4))\n",
    "    \n",
    "    plt.subplot(1, 4, 1)\n",
    "    plt.imshow(img)\n",
    "    plt.title(\"Original\")\n",
    "    \n",
    "    plt.subplot(1, 4, 2)\n",
    "    plt.imshow(resized_img)\n",
    "    plt.title(\"Resized (150x150)\")\n",
    "    \n",
    "    plt.subplot(1, 4, 3)\n",
    "    plt.imshow(gray_img, cmap='gray')\n",
    "    plt.title(\"Grayscale\")\n",
    "    \n",
    "    plt.subplot(1, 4, 4)\n",
    "    plt.imshow(sharpened_img)\n",
    "    plt.title(\"Sharpened\")\n",
    "\n",
    "    plt.show()\n"
   ]
  }
 ],
 "metadata": {
  "language_info": {
   "name": "python"
  },
  "orig_nbformat": 4
 },
 "nbformat": 4,
 "nbformat_minor": 2
}
