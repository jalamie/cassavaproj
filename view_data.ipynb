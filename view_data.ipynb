{
 "cells": [
  {
   "cell_type": "code",
   "execution_count": null,
   "metadata": {},
   "outputs": [],
   "source": [
    "import os\n",
    "import json\n",
    "\n",
    "import numpy as np\n",
    "import pandas as pd\n",
    "import seaborn as sn\n",
    "import matplotlib.pyplot as plt\n",
    "import cv2\n",
    "import albumentations as A\n",
    "\n",
    "\n",
    "import matplotlib.pyplot as plt\n",
    "import seaborn as sns\n",
    "plt.style.use('fivethirtyeight')\n",
    "sns.set_style('whitegrid')\n",
    "BASE_DIR = \"./cassava-leaf-disease-classification/\""
   ]
  },
  {
   "cell_type": "code",
   "execution_count": null,
   "metadata": {},
   "outputs": [],
   "source": [
    "with open(os.path.join(BASE_DIR, \"label_num_to_disease_map.json\")) as file:\n",
    "    map_classes = json.loads(file.read())\n",
    "    map_classes = {int(k) : v for k, v in map_classes.items()}\n",
    "    \n",
    "print(json.dumps(map_classes, indent=4))"
   ]
  },
  {
   "cell_type": "code",
   "execution_count": null,
   "metadata": {},
   "outputs": [],
   "source": [
    "input_files = os.listdir(os.path.join(BASE_DIR, \"train_images\"))\n",
    "print(f\"Number of images: {len(input_files)}\")"
   ]
  },
  {
   "cell_type": "code",
   "execution_count": null,
   "metadata": {},
   "outputs": [],
   "source": [
    "import cv2\n",
    "img_shapes = {}\n",
    "for image_name in os.listdir(os.path.join(BASE_DIR, \"train_images\"))[:10]:\n",
    "    image = cv2.imread(os.path.join(BASE_DIR, \"train_images\", image_name))\n",
    "    img_shapes[image.shape] = img_shapes.get(image.shape, 0) + 1\n",
    "\n",
    "print(img_shapes)"
   ]
  },
  {
   "cell_type": "code",
   "execution_count": null,
   "metadata": {},
   "outputs": [],
   "source": [
    "import pandas as pd\n",
    "df_train = pd.read_csv(os.path.join(BASE_DIR, \"train.csv\"))\n",
    "\n",
    "df_train[\"class_name\"] = df_train[\"label\"].map(map_classes)\n",
    "\n",
    "df_train"
   ]
  },
  {
   "cell_type": "code",
   "execution_count": null,
   "metadata": {},
   "outputs": [],
   "source": [
    "import matplotlib.pyplot as plt\n",
    "import seaborn as sn\n",
    "\n",
    "plt.figure(figsize=(8, 4))\n",
    "sn.countplot(y=\"class_name\", data=df_train)"
   ]
  },
  {
   "cell_type": "code",
   "execution_count": null,
   "metadata": {},
   "outputs": [],
   "source": [
    "from matplotlib.ticker import MaxNLocator\n",
    "import random\n",
    "\n",
    "def display_samples(df, num_samples=9, display_first=5):\n",
    "    plt.figure(figsize=(30, 30))\n",
    "    \n",
    "    # Iterate through unique class labels\n",
    "    for label in df['label'].unique():\n",
    "        # Get the first 30 samples for the current class\n",
    "        class_samples = df[df['label'] == label].head(30)\n",
    "        \n",
    "        # Randomly select 5 samples from the first 30\n",
    "        selected_samples = class_samples.sample(min(display_first, len(class_samples)), random_state=42)\n",
    "        \n",
    "        # Iterate through selected samples of the current class\n",
    "        for i, row in enumerate(selected_samples.itertuples(), 1):\n",
    "            img_path = os.path.join(BASE_DIR, \"train_images\", row.image_id)\n",
    "            img = plt.imread(img_path)\n",
    "\n",
    "            # Calculate subplot index\n",
    "            subplot_index = (label * num_samples) + i\n",
    "            \n",
    "            # Create subplot\n",
    "            plt.subplot(len(df['label'].unique()), num_samples, subplot_index)\n",
    "            plt.imshow(img)\n",
    "            \n",
    "            # Display class label as the title\n",
    "            if i == 1:  # Display the title only once for each class\n",
    "                plt.title(f'Class {row.label}')\n",
    "                \n",
    "            # Turn off the axis for each subplot\n",
    "            plt.axis('off')\n",
    "\n",
    "    plt.subplots_adjust(wspace=0.1, hspace=0.1)  # Adjust the spacing between subplots\n",
    "    plt.show()\n",
    "\n",
    "# Call the function with your DataFrame\n",
    "display_samples(df_train, num_samples=5, display_first=5)\n"
   ]
  }
 ],
 "metadata": {
  "language_info": {
   "name": "python"
  },
  "orig_nbformat": 4
 },
 "nbformat": 4,
 "nbformat_minor": 2
}
